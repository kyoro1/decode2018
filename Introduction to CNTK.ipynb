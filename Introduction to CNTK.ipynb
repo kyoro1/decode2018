{
 "cells": [
  {
   "cell_type": "markdown",
   "metadata": {},
   "source": [
    "## 0.1 library setting"
   ]
  },
  {
   "cell_type": "code",
   "execution_count": 1,
   "metadata": {},
   "outputs": [],
   "source": [
    "import sys\n",
    "import cntk as C\n",
    "from cntk.ops import *\n",
    "from cntk.layers import default_options, Dense    \n",
    "from cntk import input\n",
    "import numpy as np\n",
    "import matplotlib.pyplot as plt\n",
    "from numpy.random import *\n",
    "import random"
   ]
  },
  {
   "cell_type": "markdown",
   "metadata": {},
   "source": [
    "## 1.0 data generation\n",
    "We use `linear regression` model for understanding basic CNTK features.\n",
    "\n",
    "|variables|description|range|\n",
    "|:--|--:|:--:|\n",
    "|`x`|explanatory variable|`0` $\\mapsto$ `10000`|\n",
    "|`y`|target variable|`0` $\\mapsto$ `20001`|\n",
    "\n",
    "Relation between `x` and `y`: `y=2x+1`\n"
   ]
  },
  {
   "cell_type": "code",
   "execution_count": 2,
   "metadata": {},
   "outputs": [],
   "source": [
    "# Create the feature and the label data. For our toy example the features/labels represent a simple line passing through the origin\n",
    "total_sample_size = 10000\n",
    "\n",
    "## reshapeしないと、training時にうまく行かない\n",
    "features = np.array([i + rand() for i in range(total_sample_size)]).reshape(total_sample_size, 1)\n",
    "labels = np.array([2*i + 1 + rand() for i in range(total_sample_size)]).reshape(total_sample_size, 1)"
   ]
  },
  {
   "cell_type": "code",
   "execution_count": 3,
   "metadata": {},
   "outputs": [],
   "source": [
    "## 毎回同じ結果を得るため\n",
    "np.random.seed(0)\n",
    "\n",
    "def generate_random_data_sample(total_sample_size, sample_size, features, labels):\n",
    "    ## 選択する要素番号を取得\n",
    "    index = randint(0, total_sample_size, sample_size)\n",
    "    ## 要素選択\n",
    "    return features[index, :], labels[index, :]"
   ]
  },
  {
   "cell_type": "code",
   "execution_count": 4,
   "metadata": {},
   "outputs": [
    {
     "data": {
      "image/png": "[encoded data removed]",
      "text/plain": [
       "<matplotlib.figure.Figure at 0x7eff22cd60f0>"
      ]
     },
     "metadata": {},
     "output_type": "display_data"
    }
   ],
   "source": [
    "features_sample, labels_sample = generate_random_data_sample( \n",
    "    total_sample_size=total_sample_size, \n",
    "    sample_size=100, \n",
    "    features=features, \n",
    "    labels=labels)\n",
    "plt.scatter(features_sample, labels_sample, c='r')\n",
    "plt.xlabel(\"X\")\n",
    "plt.ylabel(\"Y\")\n",
    "plt.show()"
   ]
  },
  {
   "cell_type": "code",
   "execution_count": 5,
   "metadata": {},
   "outputs": [
    {
     "data": {
      "image/png": "[encoded data removed]",
      "text/plain": [
       "<matplotlib.figure.Figure at 0x7eff22c9ac18>"
      ]
     },
     "metadata": {},
     "output_type": "display_data"
    }
   ],
   "source": [
    "plt.scatter(features[0:30], labels[0:30], c='r')\n",
    "plt.xlabel(\"X\")\n",
    "plt.ylabel(\"Y\")\n",
    "plt.show()"
   ]
  },
  {
   "cell_type": "code",
   "execution_count": 6,
   "metadata": {},
   "outputs": [],
   "source": [
    "# Define the network as a single node with no activation function\n",
    "input_dim = 1\n",
    "num_outputs = 1\n",
    "input = C.input_variable(input_dim, np.float32)\n",
    "label = C.input_variable(num_outputs, np.float32)"
   ]
  },
  {
   "cell_type": "code",
   "execution_count": 7,
   "metadata": {},
   "outputs": [],
   "source": [
    "# Define a dictionary to store the model parameters\n",
    "mydict = {}\n",
    "def linear_layer(input_var, output_dim):\n",
    "    input_dim = input_var.shape[0]\n",
    "    weight_param = C.parameter(shape=(input_dim, output_dim))\n",
    "    bias_param = C.parameter(shape=(output_dim))\n",
    "    \n",
    "    mydict['w'], mydict['b'] = weight_param, bias_param\n",
    "\n",
    "    return bias_param + C.times(input_var, weight_param)"
   ]
  },
  {
   "cell_type": "code",
   "execution_count": 8,
   "metadata": {},
   "outputs": [],
   "source": [
    "z = linear_layer(input, num_outputs)"
   ]
  },
  {
   "cell_type": "code",
   "execution_count": 9,
   "metadata": {},
   "outputs": [],
   "source": [
    "# Setup loss and evaluation functions\n",
    "loss = C.squared_error(z, label)\n",
    "eval_error = C.squared_error(z, label)"
   ]
  },
  {
   "cell_type": "code",
   "execution_count": 10,
   "metadata": {},
   "outputs": [],
   "source": [
    "# Instantiate the trainer object to drive the model training\n",
    "learning_rate = 0.0000000001\n",
    "lr_schedule = C.learning_rate_schedule(learning_rate, C.UnitType.sample) "
   ]
  },
  {
   "cell_type": "code",
   "execution_count": 11,
   "metadata": {},
   "outputs": [],
   "source": [
    "learner = C.sgd(z.parameters, lr_schedule)"
   ]
  },
  {
   "cell_type": "code",
   "execution_count": 12,
   "metadata": {},
   "outputs": [],
   "source": [
    "trainer = C.Trainer(z, (loss, eval_error), [learner])"
   ]
  },
  {
   "cell_type": "code",
   "execution_count": 13,
   "metadata": {},
   "outputs": [],
   "source": [
    "# Define a utility that prints the training progress\n",
    "def print_training_progress(trainer, mb, frequency, verbose=1):\n",
    "    training_loss, eval_error = \"NA\", \"NA\"\n",
    "\n",
    "    if mb % frequency == 0:\n",
    "        training_loss = trainer.previous_minibatch_loss_average\n",
    "        eval_error = trainer.previous_minibatch_evaluation_average\n",
    "        if verbose: \n",
    "            print (\"Minibatch: {0}, Loss: {1:.4f}, Error: {2:.2f}\".format(mb, training_loss, eval_error))\n",
    "        \n",
    "    return mb, training_loss, eval_error"
   ]
  },
  {
   "cell_type": "code",
   "execution_count": 14,
   "metadata": {},
   "outputs": [
    {
     "name": "stdout",
     "output_type": "stream",
     "text": [
      "10000\n"
     ]
    }
   ],
   "source": [
    "# Initialize the parameters for the trainer\n",
    "minibatch_size = 50\n",
    "num_samples_to_train = 500000\n",
    "num_minibatches_to_train = int(num_samples_to_train  / minibatch_size)\n",
    "print(num_minibatches_to_train)"
   ]
  },
  {
   "cell_type": "code",
   "execution_count": 15,
   "metadata": {},
   "outputs": [],
   "source": [
    "from collections import defaultdict\n",
    "\n",
    "# Run the trainer and perform model training\n",
    "training_progress_output_freq = 1000\n",
    "plotdata = defaultdict(list)"
   ]
  },
  {
   "cell_type": "code",
   "execution_count": 16,
   "metadata": {},
   "outputs": [
    {
     "name": "stderr",
     "output_type": "stream",
     "text": [
      "/anaconda/envs/py35/lib/python3.5/site-packages/cntk/core.py:361: UserWarning: your data is of type \"float64\", but your input variable (uid \"Input3\") expects \"<class 'numpy.float32'>\". Please convert your data beforehand to speed up training.\n",
      "  (sample.dtype, var.uid, str(var.dtype)))\n",
      "/anaconda/envs/py35/lib/python3.5/site-packages/cntk/core.py:361: UserWarning: your data is of type \"float64\", but your input variable (uid \"Input4\") expects \"<class 'numpy.float32'>\". Please convert your data beforehand to speed up training.\n",
      "  (sample.dtype, var.uid, str(var.dtype)))\n"
     ]
    },
    {
     "name": "stdout",
     "output_type": "stream",
     "text": [
      "Minibatch: 0, Loss: 128788172.8000, Error: 128788172.80\n",
      "Minibatch: 1000, Loss: 0.6421, Error: 0.64\n",
      "Minibatch: 2000, Loss: 0.4236, Error: 0.42\n",
      "Minibatch: 3000, Loss: 0.5345, Error: 0.53\n",
      "Minibatch: 4000, Loss: 0.4461, Error: 0.45\n",
      "Minibatch: 5000, Loss: 0.3759, Error: 0.38\n",
      "Minibatch: 6000, Loss: 0.4269, Error: 0.43\n",
      "Minibatch: 7000, Loss: 0.4928, Error: 0.49\n",
      "Minibatch: 8000, Loss: 0.4759, Error: 0.48\n",
      "Minibatch: 9000, Loss: 0.5485, Error: 0.55\n"
     ]
    }
   ],
   "source": [
    "gradient = []\n",
    "interception = []\n",
    "for i in range(0, num_minibatches_to_train):   \n",
    "    feature_samples, label_samples = generate_random_data_sample(\n",
    "        total_sample_size=total_sample_size, \n",
    "        sample_size=minibatch_size, \n",
    "        features=features, \n",
    "        labels=labels)\n",
    "    gradient.append(mydict['w'].value)\n",
    "    interception.append(mydict['b'].value)\n",
    "    trainer.train_minibatch({input : feature_samples, label : label_samples})\n",
    "    batchsize, loss, error = print_training_progress(trainer, i, \n",
    "                                                     training_progress_output_freq, verbose=1)"
   ]
  },
  {
   "cell_type": "code",
   "execution_count": 17,
   "metadata": {},
   "outputs": [
    {
     "name": "stdout",
     "output_type": "stream",
     "text": [
      "[[2.000072]] [0.00031887]\n"
     ]
    }
   ],
   "source": [
    "print(mydict['w'].value, mydict['b'].value)"
   ]
  },
  {
   "cell_type": "code",
   "execution_count": 18,
   "metadata": {},
   "outputs": [
    {
     "data": {
      "image/png": "[encoded data removed]",
      "text/plain": [
       "<matplotlib.figure.Figure at 0x7eff1a6fe828>"
      ]
     },
     "metadata": {},
     "output_type": "display_data"
    }
   ],
   "source": [
    "plt.scatter(gradient, interception, c='r')\n",
    "plt.xlabel('gradient')\n",
    "plt.ylabel('interception')\n",
    "plt.show()"
   ]
  },
  {
   "cell_type": "code",
   "execution_count": null,
   "metadata": {},
   "outputs": [],
   "source": []
  }
 ],
 "metadata": {
  "kernelspec": {
   "display_name": "Python [conda env:py35]",
   "language": "python",
   "name": "conda-env-py35-py"
  },
  "language_info": {
   "codemirror_mode": {
    "name": "ipython",
    "version": 3
   },
   "file_extension": ".py",
   "mimetype": "text/x-python",
   "name": "python",
   "nbconvert_exporter": "python",
   "pygments_lexer": "ipython3",
   "version": "3.5.4"
  }
 },
 "nbformat": 4,
 "nbformat_minor": 2
}
