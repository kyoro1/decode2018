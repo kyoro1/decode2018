{
 "cells": [
  {
   "cell_type": "markdown",
   "metadata": {},
   "source": [
    "## 0.0 Library setting"
   ]
  },
  {
   "cell_type": "code",
   "execution_count": 1,
   "metadata": {
    "collapsed": true
   },
   "outputs": [],
   "source": [
    "import sys\n",
    "import cntk as C\n",
    "import numpy as np\n",
    "from numpy.random import rand, randint #For selecting samples\n",
    "import matplotlib.pyplot as plt\n",
    "\n",
    "np.random.seed(0) #For reproductivity"
   ]
  },
  {
   "cell_type": "markdown",
   "metadata": {},
   "source": [
    "## 1.0 Data generation\n",
    "We use `linear regression` model in order to understand basic CNTK features. Here's a description, which we'll use:\n",
    "\n",
    "|variables|description|range|\n",
    "|:--|--:|:--:|\n",
    "|$x$|explanatory variable|$0 \\sim 10000$ with random noise|\n",
    "|$y$|target variable|$1 \\sim 20001$ with random noise|\n",
    "\n",
    "Relation of $x$ and $y$: $y=2x+1+r$, where $r$ is random noise between $0$ and $1$. \n",
    "\n",
    "Also, $x$, $y$ are noted as $feature$, $label$ respectively in accordance with usual machine-learning context. We use both notations in this notebook."
   ]
  },
  {
   "cell_type": "code",
   "execution_count": 2,
   "metadata": {},
   "outputs": [],
   "source": [
    "# Create the feature and the label data. For our toy example the features/labels represent a simple line passing through the origin\n",
    "total_sample_size = 10000\n",
    "\n",
    "# The reason why we use `reshape` comes from training method.\n",
    "features = np.array([i + rand() for i in range(total_sample_size)], dtype=np.float32).reshape(total_sample_size, 1)\n",
    "labels = np.array([2*i + 1 + rand() for i in range(total_sample_size)], dtype=np.float32).reshape(total_sample_size, 1)"
   ]
  },
  {
   "cell_type": "markdown",
   "metadata": {},
   "source": [
    "Let's see a few samples:"
   ]
  },
  {
   "cell_type": "code",
   "execution_count": 3,
   "metadata": {},
   "outputs": [
    {
     "name": "stdout",
     "output_type": "stream",
     "text": [
      "features : [[0.5488135 1.7151893 2.6027634 3.5448833 4.423655 ]]\n",
      "labels   : [[1.748268  3.1802027 5.3890233 7.0376    9.011787 ]]\n"
     ]
    }
   ],
   "source": [
    "print(\"features :\", features[0:5,:].T)\n",
    "print(\"labels   :\", labels[0:5,:].T)"
   ]
  },
  {
   "cell_type": "code",
   "execution_count": 4,
   "metadata": {
    "collapsed": true
   },
   "outputs": [],
   "source": [
    "# Extract some samples\n",
    "def generate_random_data_sample(total_sample_size, sample_size, features, labels):\n",
    "    '''\n",
    "    Arguments:\n",
    "        total_sample_size: Total numbers of samples\n",
    "        sample_size: sample number to be extracted\n",
    "        features: population for explanatory variable\n",
    "        labels: population for target variable\n",
    "    \n",
    "    Return\n",
    "        features, labels to be extracted\n",
    "    '''\n",
    "    # Define the element numbers to extract\n",
    "    index = randint(0, total_sample_size, sample_size)\n",
    "    # Extract both features, labels aligned to the element numbers defined above\n",
    "    return features[index, :], labels[index, :]"
   ]
  },
  {
   "cell_type": "markdown",
   "metadata": {},
   "source": [
    "## 1.2 Split the whole data for training, test"
   ]
  },
  {
   "cell_type": "markdown",
   "metadata": {},
   "source": [
    "Split the whole sample data into training, test with ratio $9:1$. Roughly speaking, training $x$ ranges from $0$ to $9000$, test $x$ contains over $9000$."
   ]
  },
  {
   "cell_type": "code",
   "execution_count": 5,
   "metadata": {
    "collapsed": true
   },
   "outputs": [],
   "source": [
    "split_threshold = 9000\n",
    "\n",
    "train_features, train_labels, test_features, test_labels = \\\n",
    "    features[:split_threshold], labels[:split_threshold], features[split_threshold:], labels[split_threshold:]"
   ]
  },
  {
   "cell_type": "markdown",
   "metadata": {},
   "source": [
    "## 1.3 Visualize samples with the whole samples"
   ]
  },
  {
   "cell_type": "code",
   "execution_count": 6,
   "metadata": {},
   "outputs": [
    {
     "data": {
      "image/png": "[encoded data removed]",
      "text/plain": [
       "<matplotlib.figure.Figure at 0x2722ebc8a90>"
      ]
     },
     "metadata": {},
     "output_type": "display_data"
    }
   ],
   "source": [
    "# Extract 100 samples\n",
    "features_sample, labels_sample = generate_random_data_sample( \n",
    "    total_sample_size=total_sample_size, \n",
    "    sample_size=100, \n",
    "    features=features, \n",
    "    labels=labels)\n",
    "\n",
    "# Visualize\n",
    "plt.scatter(features_sample, labels_sample, c='r')\n",
    "plt.xlabel(\"feature (or $x$)\")\n",
    "plt.ylabel(\"label (or $y$)\")\n",
    "plt.title(\"Extract 100 samples from total samples\")\n",
    "plt.show()"
   ]
  },
  {
   "cell_type": "code",
   "execution_count": 7,
   "metadata": {},
   "outputs": [
    {
     "data": {
      "image/png": "[encoded data removed]",
      "text/plain": [
       "<matplotlib.figure.Figure at 0x2722ebc8898>"
      ]
     },
     "metadata": {},
     "output_type": "display_data"
    }
   ],
   "source": [
    "# Visualize the first 30 samples\n",
    "plt.scatter(features[0:30], labels[0:30], c='r')\n",
    "plt.xlabel(\"feature (or $x$)\")\n",
    "plt.ylabel(\"label (or $y$)\")\n",
    "plt.title(\"Extract the first 30 samples\")\n",
    "plt.show()"
   ]
  },
  {
   "cell_type": "markdown",
   "metadata": {},
   "source": [
    "## 2.0 Define model structure"
   ]
  },
  {
   "cell_type": "markdown",
   "metadata": {},
   "source": [
    "In our case, dimensions of input, output are both 1. ALso, in usual Neural Network terminology, we use $y = Wx + b$. In our case, $W, b$ correspond to $2, 1$ for each:\n",
    "\n",
    "|variables|description|\n",
    "|:--:|:--|\n",
    "|$x$|explanatory variable|\n",
    "|$y$|target variable|\n",
    "|$W$|weight|\n",
    "|$b$|bias|\n",
    "\n",
    "With the setting as above, we may infer $W$ and $b$ with observations provided in `1.0 data generation`. "
   ]
  },
  {
   "cell_type": "code",
   "execution_count": 8,
   "metadata": {
    "collapsed": true
   },
   "outputs": [],
   "source": [
    "# Define the network as a single node with no activation function\n",
    "input_dim = 1\n",
    "num_outputs = 1\n",
    "input = C.input_variable(input_dim, np.float32)\n",
    "label = C.input_variable(num_outputs, np.float32)"
   ]
  },
  {
   "cell_type": "markdown",
   "metadata": {},
   "source": [
    "Training procedure means adjusting parameters $W$, $b$, and we'll use `parameter` method in CNTK:"
   ]
  },
  {
   "cell_type": "code",
   "execution_count": 9,
   "metadata": {},
   "outputs": [],
   "source": [
    "# Define a dictionary to store the model parameters\n",
    "mydict = {}\n",
    "def linear_layer(input_var, output_dim):\n",
    "    input_dim = input_var.shape[0]\n",
    "    # Define weight W\n",
    "    weight_param = C.parameter(shape=(input_dim, output_dim))\n",
    "    # Define bias b\n",
    "    bias_param = C.parameter(shape=(output_dim))\n",
    "    \n",
    "    mydict['w'], mydict['b'] = weight_param, bias_param\n",
    "\n",
    "    # Wx + b. Pay attention to the order of variables!!\n",
    "    return bias_param + C.times(input_var, weight_param)"
   ]
  },
  {
   "cell_type": "markdown",
   "metadata": {},
   "source": [
    "$z$ is used as inferred result with parameter $W$, $b$."
   ]
  },
  {
   "cell_type": "code",
   "execution_count": 10,
   "metadata": {
    "collapsed": true
   },
   "outputs": [],
   "source": [
    "# Define model structure\n",
    "z = linear_layer(input, num_outputs)"
   ]
  },
  {
   "cell_type": "markdown",
   "metadata": {},
   "source": [
    "## 2.1 Define loss function"
   ]
  },
  {
   "cell_type": "markdown",
   "metadata": {},
   "source": [
    "`loss` is used in training, `eval_error` for evaluating. In our case, we use squared error, which is commonly used as regression model."
   ]
  },
  {
   "cell_type": "code",
   "execution_count": 11,
   "metadata": {
    "collapsed": true
   },
   "outputs": [],
   "source": [
    "# Setup loss and evaluation functions\n",
    "loss = C.squared_error(z, label)\n",
    "eval_error = C.squared_error(z, label)"
   ]
  },
  {
   "cell_type": "markdown",
   "metadata": {},
   "source": [
    "## 2.2 Set training parameters"
   ]
  },
  {
   "cell_type": "markdown",
   "metadata": {},
   "source": [
    "- `learning_rate` means how fast the learning speed is. It sets bigger, the convergence is faster theoretically, But, it's defined as very small value, in usual cases.\n",
    "\n",
    "\n",
    "- `lr_schedule` defines learning rate with entire training procedure. In our case, it's fixed as `learning_rate`. We can set it like `0.01` in the first iteration, `0.001` as the second, etc.."
   ]
  },
  {
   "cell_type": "code",
   "execution_count": 12,
   "metadata": {
    "collapsed": true
   },
   "outputs": [],
   "source": [
    "# Instantiate the trainer object to drive the model training\n",
    "learning_rate = 0.0000000001\n",
    "lr_schedule = C.learning_rate_schedule(learning_rate, C.UnitType.sample) "
   ]
  },
  {
   "cell_type": "markdown",
   "metadata": {},
   "source": [
    "## 2.3 Define learner (how our algorithm optimizes the parameters)"
   ]
  },
  {
   "cell_type": "markdown",
   "metadata": {},
   "source": [
    "- `learner` defines how our algorithm optimizes parameters. \n",
    "    - `sgd`: Optimize algorithm(Stochastic Gradient Descent)\n",
    "    - `z.parameters`: Adjusted parameters, where are $W$, $b$ in our situation.\n",
    "    - `lr_schedule`: How fast the learning speed is?"
   ]
  },
  {
   "cell_type": "code",
   "execution_count": 13,
   "metadata": {
    "collapsed": true
   },
   "outputs": [],
   "source": [
    "learner = C.sgd(z.parameters, lr_schedule)"
   ]
  },
  {
   "cell_type": "markdown",
   "metadata": {},
   "source": [
    "- `trainer`: It encapsulates the overall training process and employs one or more learners to tune the parameters of a specified model using gradients of parameters w.r.t. a training objective."
   ]
  },
  {
   "cell_type": "code",
   "execution_count": 14,
   "metadata": {
    "collapsed": true
   },
   "outputs": [],
   "source": [
    "trainer = C.Trainer(z, (loss, eval_error), [learner])"
   ]
  },
  {
   "cell_type": "markdown",
   "metadata": {},
   "source": [
    "## 2.4 Define progress printer"
   ]
  },
  {
   "cell_type": "markdown",
   "metadata": {},
   "source": [
    "Usually, the training cycle of deep learning continues very long time, and the following function enables us to confirm the situations."
   ]
  },
  {
   "cell_type": "code",
   "execution_count": 15,
   "metadata": {
    "collapsed": true
   },
   "outputs": [],
   "source": [
    "# Define a utility that prints the training progress\n",
    "def print_training_progress(trainer, mb, frequency, verbose=1):\n",
    "    training_loss, eval_error = \"NA\", \"NA\"\n",
    "\n",
    "    if mb % frequency == 0:\n",
    "        training_loss = trainer.previous_minibatch_loss_average\n",
    "        eval_error = trainer.previous_minibatch_evaluation_average\n",
    "        if verbose: \n",
    "            print (\"Minibatch: {0}, Loss: {1:.4f}, Error: {2:.2f}\".format(mb, training_loss, eval_error))\n",
    "\n",
    "    return mb, training_loss, eval_error"
   ]
  },
  {
   "cell_type": "code",
   "execution_count": 16,
   "metadata": {
    "collapsed": true
   },
   "outputs": [],
   "source": [
    "# Initialize the parameters for the trainer\n",
    "minibatch_size = 50\n",
    "num_samples_to_train = split_threshold\n",
    "num_minibatches_to_train = int(num_samples_to_train / minibatch_size)\n",
    "\n",
    "# Run the trainer and perform model training\n",
    "training_progress_output_freq = 10"
   ]
  },
  {
   "cell_type": "markdown",
   "metadata": {},
   "source": [
    "### prerequisites with mathematical formulation\n",
    "Remember that we selected squared error as loss function, we note it as $E(W, b)$:\n",
    "\n",
    "$$\n",
    "\\begin{eqnarray}\n",
    "E(W, b) := \\sum_{j=1}^N(y_j-wx_j-b)^2\n",
    "\\end{eqnarray}\n",
    "$$\n",
    "\n",
    "where each variable is defined as follows:\n",
    "\n",
    "|variables|description|\n",
    "|:--:|:--|\n",
    "|$N$|Number of samples|\n",
    "|$x_j$|samples of explanatory variable|\n",
    "|$y_j$|samples of target variable|\n",
    "|$W$|weight|\n",
    "|$b$|bias|\n",
    "\n",
    "We think about the following graddients with `learning_rate`:\n",
    "\n",
    "### gradient of $W$: \n",
    "$$\n",
    "\\begin{eqnarray}\n",
    "\\frac{\\partial E}{\\partial W} &=& \\sum_j \\frac{\\partial}{\\partial W}(y_j-Wx_j-b)^2 \\\\\n",
    "&=& \\sum_j 2\\times (y_j-Wx_j-b) \\times (-x_j) \\\\\n",
    "&=& -2\\times \\sum_j (y_j-Wx_j-b)\\times x_j\n",
    "\\end{eqnarray}\n",
    "$$\n",
    "\n",
    "The gradient $\\frac{\\partial E}{\\partial W}$(multipled by `learning_rate`, to be precised.) is enough large to converge rather fast.\n",
    "\n",
    "### gradient of $b$:\n",
    "\n",
    "On the other hand, in caluculating the gradient with the direction of $b$, \n",
    "$$\n",
    "\\begin{eqnarray}\n",
    "\\frac{\\partial E}{\\partial b} &=& \\sum_j \\frac{\\partial}{\\partial b}(y_j-Wx_j-b)^2 \\\\\n",
    "&=& \\sum_j 2\\times (y_j-Wx_j-b) \\times (-1) \\\\\n",
    "&=& -2\\times \\sum_j (y_j-Wx_j-b)\n",
    "\\end{eqnarray}\n",
    "$$\n",
    "Roughly speaking the term $y_j-Wx_j-b$(precisely, multipled by `learning_rate`) is almost $0$, i.e. the convergence speed is much slow, if we use gradient-like algorithm."
   ]
  },
  {
   "cell_type": "code",
   "execution_count": 17,
   "metadata": {
    "collapsed": true
   },
   "outputs": [],
   "source": [
    "def gradient_W(features, labels, weight, bias):\n",
    "    return -2 * np.sum([(label- weight * feature - bias) * feature for (feature, label) in  np.c_[features, labels]]) * learning_rate\n",
    "    \n",
    "def gradient_b(features, labels, weight, bias):\n",
    "    return -2 * np.sum([(label- weight * feature - bias) for (feature, label) in  np.c_[features, labels]]) * learning_rate"
   ]
  },
  {
   "cell_type": "code",
   "execution_count": 18,
   "metadata": {},
   "outputs": [
    {
     "name": "stdout",
     "output_type": "stream",
     "text": [
      "Minibatch: 0, Loss: 102793676.8000, Error: 102793676.80\n",
      "Minibatch: 10, Loss: 168337.1200, Error: 168337.12\n",
      "Minibatch: 20, Loss: 115.0215, Error: 115.02\n",
      "Minibatch: 30, Loss: 0.8403, Error: 0.84\n",
      "Minibatch: 40, Loss: 0.4829, Error: 0.48\n",
      "Minibatch: 50, Loss: 0.5551, Error: 0.56\n",
      "Minibatch: 60, Loss: 0.3630, Error: 0.36\n",
      "Minibatch: 70, Loss: 0.4864, Error: 0.49\n",
      "Minibatch: 80, Loss: 0.4995, Error: 0.50\n",
      "Minibatch: 90, Loss: 0.4433, Error: 0.44\n",
      "Minibatch: 100, Loss: 0.4917, Error: 0.49\n",
      "Minibatch: 110, Loss: 0.5818, Error: 0.58\n",
      "Minibatch: 120, Loss: 0.3305, Error: 0.33\n",
      "Minibatch: 130, Loss: 0.4017, Error: 0.40\n",
      "Minibatch: 140, Loss: 0.4596, Error: 0.46\n",
      "Minibatch: 150, Loss: 0.5531, Error: 0.55\n",
      "Minibatch: 160, Loss: 0.4481, Error: 0.45\n",
      "Minibatch: 170, Loss: 0.5885, Error: 0.59\n"
     ]
    }
   ],
   "source": [
    "# Prepare parameters, which we can see how the parameters are optimized.\n",
    "W_values, b_values, W_gradients, b_gradients = [], [], [], []\n",
    "\n",
    "# Training process\n",
    "for i in range(0, num_minibatches_to_train):\n",
    "    # Extract training data\n",
    "    feature_samples, label_samples = generate_random_data_sample(\n",
    "        total_sample_size=split_threshold\n",
    "        ,sample_size=minibatch_size\n",
    "        ,features=train_features \n",
    "        ,labels=train_labels)\n",
    "    \n",
    "    # Train\n",
    "    trainer.train_minibatch({input : feature_samples, label : label_samples})\n",
    "    # Progress print\n",
    "    batchsize, loss, error = print_training_progress(trainer, i, \n",
    "                                                     training_progress_output_freq, verbose=1)\n",
    "\n",
    "    # Store weight, bias for chasing afterward\n",
    "    W_values.append(mydict['w'].value)\n",
    "    b_values.append(mydict['b'].value)\n",
    "    # Store gradient of weight, bias for chasing afterward\n",
    "    W_gradients.append(\n",
    "        gradient_W(\n",
    "            features=feature_samples\n",
    "            ,labels=label_samples\n",
    "            ,weight=mydict['w'].value\n",
    "            ,bias=mydict['b'].value   \n",
    "        )\n",
    "    )\n",
    "    b_gradients.append(\n",
    "        gradient_b(\n",
    "            features=feature_samples\n",
    "            ,labels=label_samples\n",
    "            ,weight=mydict['w'].value\n",
    "            ,bias=mydict['b'].value    \n",
    "        )\n",
    "    )"
   ]
  },
  {
   "cell_type": "markdown",
   "metadata": {},
   "source": [
    "## 3.0 Confirm final parameter set"
   ]
  },
  {
   "cell_type": "code",
   "execution_count": 19,
   "metadata": {},
   "outputs": [
    {
     "name": "stdout",
     "output_type": "stream",
     "text": [
      "pre-defined weight: 2,  adjusted weight:  2.0000906\n",
      "pre-defined bias  : 1,  adjusted bias  :  0.00033357216\n"
     ]
    }
   ],
   "source": [
    "print(\"pre-defined weight: 2,  adjusted weight: \", mydict['w'].value[0][0])\n",
    "print(\"pre-defined bias  : 1,  adjusted bias  : \", mydict['b'].value[0])"
   ]
  },
  {
   "cell_type": "markdown",
   "metadata": {},
   "source": [
    "## 3.1 Confirm how the parameters converge"
   ]
  },
  {
   "cell_type": "markdown",
   "metadata": {},
   "source": [
    "We find that weight $W$ converges into $2$, but the convergence of bias $b$ to $1$ is very slow in the following plot:"
   ]
  },
  {
   "cell_type": "code",
   "execution_count": 20,
   "metadata": {},
   "outputs": [
    {
     "data": {
      "image/png": "[encoded data removed]",
      "text/plain": [
       "<matplotlib.figure.Figure at 0x27230f7dc88>"
      ]
     },
     "metadata": {},
     "output_type": "display_data"
    }
   ],
   "source": [
    "plt.scatter(W_values, b_values, c='rygb')\n",
    "plt.xlabel('Weight ($W$)')\n",
    "plt.ylabel('bias ($b$)')\n",
    "plt.title('How each parameter $W$, $b$ converge')\n",
    "plt.show()"
   ]
  },
  {
   "cell_type": "markdown",
   "metadata": {},
   "source": [
    "We see the gradient $\\frac{\\partial E}{\\partial W}$ multipled by `learning_rate` converge gradually. By contrast, $\\frac{\\partial E}{\\partial b}$ multipled by `learning_rate` are almost $0$."
   ]
  },
  {
   "cell_type": "code",
   "execution_count": 21,
   "metadata": {},
   "outputs": [
    {
     "data": {
      "image/png": "[encoded data removed]",
      "text/plain": [
       "<matplotlib.figure.Figure at 0x27230f75ef0>"
      ]
     },
     "metadata": {},
     "output_type": "display_data"
    }
   ],
   "source": [
    "plt.scatter(W_gradients, b_gradients, c='rygb')\n",
    "plt.xlabel('gradient of Weight')\n",
    "plt.ylabel('gradient of bias')\n",
    "plt.title('How each gradient of parameter $W$, $b$ converge')\n",
    "plt.show()"
   ]
  },
  {
   "cell_type": "markdown",
   "metadata": {
    "collapsed": true
   },
   "source": [
    "## 4.0 Evaluation"
   ]
  },
  {
   "cell_type": "code",
   "execution_count": 22,
   "metadata": {},
   "outputs": [],
   "source": [
    "result = z.eval({input : test_features})"
   ]
  },
  {
   "cell_type": "code",
   "execution_count": 23,
   "metadata": {},
   "outputs": [
    {
     "name": "stdout",
     "output_type": "stream",
     "text": [
      "Features        : [[9000.637 9001.9   9002.774 9003.129 9004.066 9005.942 9006.161]]\n",
      "Actual    values: [[18001.459 18003.74  18005.21  18007.338 18009.113 18011.453 18013.037]]\n",
      "Predicted values: [[18002.09  18004.617 18006.365 18007.074 18008.95  18012.701 18013.139]]\n",
      "Error           : [-0.6308594, -0.8769531, -1.1542969, 0.26367188, 0.1640625, -1.2480469, -0.1015625]\n"
     ]
    }
   ],
   "source": [
    "SAMPLE_NUM = 7\n",
    "print(\"Features        :\", test_features[:SAMPLE_NUM].T)\n",
    "print(\"Actual    values:\", test_labels[:SAMPLE_NUM].T)\n",
    "print(\"Predicted values:\", result[:SAMPLE_NUM].T)\n",
    "print(\"Error           :\", [(test-result)[0] for test, result in zip(test_labels, result)][:SAMPLE_NUM])"
   ]
  },
  {
   "cell_type": "code",
   "execution_count": 24,
   "metadata": {},
   "outputs": [
    {
     "data": {
      "image/png": "[encoded data removed]",
      "text/plain": [
       "<matplotlib.figure.Figure at 0x27230f7d518>"
      ]
     },
     "metadata": {},
     "output_type": "display_data"
    }
   ],
   "source": [
    "plt.scatter(result, test_labels)\n",
    "plt.xlabel('Actual values')\n",
    "plt.ylabel('Predicted values')\n",
    "plt.title('Actual & predicted values')\n",
    "plt.show()"
   ]
  }
 ],
 "metadata": {
  "kernelspec": {
   "display_name": "Python 3",
   "language": "python",
   "name": "python3"
  },
  "language_info": {
   "codemirror_mode": {
    "name": "ipython",
    "version": 3
   },
   "file_extension": ".py",
   "mimetype": "text/x-python",
   "name": "python",
   "nbconvert_exporter": "python",
   "pygments_lexer": "ipython3",
   "version": "3.5.2"
  }
 },
 "nbformat": 4,
 "nbformat_minor": 2
}
