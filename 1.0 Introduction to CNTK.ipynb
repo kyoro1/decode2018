{
 "cells": [
  {
   "cell_type": "markdown",
   "metadata": {},
   "source": [
    "## 0.0 Python library設定"
   ]
  },
  {
   "cell_type": "code",
   "execution_count": 1,
   "metadata": {},
   "outputs": [],
   "source": [
    "import sys\n",
    "import cntk as C\n",
    "import numpy as np\n",
    "from numpy.random import rand, randint #For selecting samples\n",
    "import matplotlib.pyplot as plt\n",
    "\n",
    "np.random.seed(0) #For reproductivity"
   ]
  },
  {
   "cell_type": "markdown",
   "metadata": {},
   "source": [
    "## 1.0 データ生成\n",
    "\n",
    "ここでは、`CNTK`で`線型回帰`(単回帰)を扱います.\n",
    "\n",
    "- 説明変数 $x$ (feature)：$0+r \\sim 10000+r$\n",
    "- 目的変数 $y$ (label)：関係式: $y=2x+r$\n",
    "\n",
    "但し $r$ は $0$ ～ $1$までのランダムノイズ\n",
    "\n",
    "まとめると、\n",
    "\n",
    "|変数|内容|範囲|\n",
    "|:--|:--:|:--:|\n",
    "|$x$|説明変数|$0 \\sim 10000$ + ランダムノイズ|\n",
    "|$y$|目的変数|$0 \\sim 20000$ + ランダムノイズ|"
   ]
  },
  {
   "cell_type": "code",
   "execution_count": 2,
   "metadata": {},
   "outputs": [],
   "source": [
    "# サンプル数\n",
    "total_sample_size = 10000\n",
    "\n",
    "# データ生成\n",
    "# \"resyape\"は後でTrainingの引数に合わせるため\n",
    "features = np.array([i + rand() for i in range(total_sample_size)], dtype=np.float32).reshape(total_sample_size, 1)\n",
    "labels = np.array([2*i + rand() for i in range(total_sample_size)], dtype=np.float32).reshape(total_sample_size, 1)"
   ]
  },
  {
   "cell_type": "markdown",
   "metadata": {},
   "source": [
    "幾つか数を取り出してみます"
   ]
  },
  {
   "cell_type": "code",
   "execution_count": 3,
   "metadata": {},
   "outputs": [
    {
     "name": "stdout",
     "output_type": "stream",
     "text": [
      "original : 0          1         2         3         4\n",
      "           ↓        ↓         ↓        ↓        ↓\n",
      "features : [0.5488135 1.7151893 2.6027634 3.5448833 4.423655 ]\n",
      "labels   : [0.748268  2.1802027 4.3890233 6.0376    8.011787 ]\n"
     ]
    }
   ],
   "source": [
    "print(\"original : 0          1         2         3         4\")\n",
    "print(\"           ↓        ↓         ↓        ↓        ↓\")\n",
    "print(\"features :\", features[0:5,:].T[0])\n",
    "print(\"labels   :\", labels[0:5,:].T[0])"
   ]
  },
  {
   "cell_type": "code",
   "execution_count": 4,
   "metadata": {},
   "outputs": [],
   "source": [
    "# 生成データから、サンプル数を指定して抽出する関数を作っておきます\n",
    "def generate_random_data_sample(total_sample_size, sample_size, features, labels):\n",
    "    '''\n",
    "    引数\n",
    "        total_sample_size: サンプル総数\n",
    "        sample_size: 抽出サンプル数\n",
    "        features: 説明変数データソース\n",
    "        labels: 目的変数データソース\n",
    "        \n",
    "    Return\n",
    "        features, labels\n",
    "    '''\n",
    "    # 何番目のデータを取り出すか\n",
    "    index = randint(0, total_sample_size, sample_size)\n",
    "    # データ抽出\n",
    "    return features[index, :], labels[index, :]"
   ]
  },
  {
   "cell_type": "markdown",
   "metadata": {},
   "source": [
    "## 1.2 全データをTraining, Testに分割"
   ]
  },
  {
   "cell_type": "markdown",
   "metadata": {},
   "source": [
    "全$10,000$件のデータを$0$～$9,000$番目までをTraining,残り1,000件をTestに用います.\n",
    "\n",
    "Training : Test = 9 : 1"
   ]
  },
  {
   "cell_type": "code",
   "execution_count": 5,
   "metadata": {},
   "outputs": [],
   "source": [
    "split_threshold = 9000\n",
    "\n",
    "train_features, train_labels, test_features, test_labels = \\\n",
    "    features[:split_threshold], labels[:split_threshold], features[split_threshold:], labels[split_threshold:]"
   ]
  },
  {
   "cell_type": "markdown",
   "metadata": {},
   "source": [
    "## 1.3 内容を可視化"
   ]
  },
  {
   "cell_type": "code",
   "execution_count": 6,
   "metadata": {},
   "outputs": [
    {
     "data": {
      "image/png": "[encoded data removed]",
      "text/plain": [
       "<matplotlib.figure.Figure at 0x7fe26c122f98>"
      ]
     },
     "metadata": {},
     "output_type": "display_data"
    }
   ],
   "source": [
    "# 先ほど作った関数 generate_random_data_sample を使ってランダムに50件を抽出\n",
    "features_sample, labels_sample = generate_random_data_sample( \n",
    "    total_sample_size=total_sample_size, \n",
    "    sample_size=50, \n",
    "    features=features, \n",
    "    labels=labels)\n",
    "\n",
    "# 可視化\n",
    "plt.scatter(features_sample, labels_sample, c='r')\n",
    "plt.xlabel(\"feature (or $x$)\")\n",
    "plt.ylabel(\"label (or $y$)\")\n",
    "plt.title(\"Extract 50 samples from total samples\")\n",
    "plt.show()"
   ]
  },
  {
   "cell_type": "code",
   "execution_count": 7,
   "metadata": {},
   "outputs": [
    {
     "data": {
      "image/png": "[encoded data removed]",
      "text/plain": [
       "<matplotlib.figure.Figure at 0x7fe263b1bda0>"
      ]
     },
     "metadata": {},
     "output_type": "display_data"
    }
   ],
   "source": [
    "# 最初の30件を抽出 & 可視化\n",
    "plt.scatter(features[0:30], labels[0:30], c='r')\n",
    "plt.xlabel(\"feature (or $x$)\")\n",
    "plt.ylabel(\"label (or $y$)\")\n",
    "plt.title(\"Extract the first 30 samples\")\n",
    "plt.show()"
   ]
  },
  {
   "cell_type": "markdown",
   "metadata": {},
   "source": [
    "## 2.0 モデル構造を定義"
   ]
  },
  {
   "cell_type": "markdown",
   "metadata": {},
   "source": [
    "- 入力・出力変数ともに、次元は$1$\n",
    "- 入力・出力変数の関係を$y = Wx + b$と仮定して、$W$, $b$を求めることにします。\n",
    "\n",
    "|変数名|内容|\n",
    "|:--:|:--|\n",
    "|$x$|説明変数|\n",
    "|$y$|目的変数|\n",
    "|$W$|Weight|\n",
    "|$b$|bias|"
   ]
  },
  {
   "cell_type": "code",
   "execution_count": 8,
   "metadata": {},
   "outputs": [],
   "source": [
    "# 入力変数を定義(activation関数なし)\n",
    "input_dim = 1\n",
    "num_outputs = 1\n",
    "input = C.input_variable(input_dim, np.float32)\n",
    "label = C.input_variable(num_outputs, np.float32)"
   ]
  },
  {
   "cell_type": "markdown",
   "metadata": {},
   "source": [
    "Training procedure means adjusting parameters $W$, $b$, and we'll use `parameter` method in CNTK:"
   ]
  },
  {
   "cell_type": "code",
   "execution_count": 9,
   "metadata": {},
   "outputs": [],
   "source": [
    "# 関数を定義\n",
    "# mydictは、後でW, bの軌跡を確認するための入れ物\n",
    "mydict = {}\n",
    "def linear_layer(input_var, output_dim):\n",
    "    input_dim = input_var.shape[0]\n",
    "    # Weight Wを定義\n",
    "    weight_param = C.parameter(shape=(input_dim, output_dim))\n",
    "    # Bias bを定義\n",
    "    bias_param = C.parameter(shape=(output_dim))\n",
    "    \n",
    "    mydict['w'], mydict['b'] = weight_param, bias_param\n",
    "\n",
    "    # Wx + b. 変数の順序に注意！\n",
    "    return bias_param + C.times(input_var, weight_param)"
   ]
  },
  {
   "cell_type": "markdown",
   "metadata": {},
   "source": [
    "$z$ は、パラメータ$W$, $b$を使った推定値(予測値)を入れるための変数"
   ]
  },
  {
   "cell_type": "code",
   "execution_count": 10,
   "metadata": {},
   "outputs": [],
   "source": [
    "# モデル構造を定義(linear_layerは先ほど作成した関数)\n",
    "z = linear_layer(input, num_outputs)"
   ]
  },
  {
   "cell_type": "markdown",
   "metadata": {},
   "source": [
    "## 2.1 損失関数(`loss`, `eval_error`)の定義"
   ]
  },
  {
   "cell_type": "markdown",
   "metadata": {},
   "source": [
    "- `loss` ：学習時に利用\n",
    "- `eval_error` ：評価時に利用 \n",
    "\n",
    "今回は、回帰モデルを使っており、同じ評価関数(二乗誤差:`C.squared_error`)を利用."
   ]
  },
  {
   "cell_type": "code",
   "execution_count": 11,
   "metadata": {},
   "outputs": [],
   "source": [
    "# Setup loss and evaluation functions\n",
    "loss = C.squared_error(z, label)\n",
    "eval_error = C.squared_error(z, label)"
   ]
  },
  {
   "cell_type": "markdown",
   "metadata": {},
   "source": [
    "## 2.2 Training用パラメータを設定"
   ]
  },
  {
   "cell_type": "markdown",
   "metadata": {},
   "source": [
    "- `learning_rate`：どの程度の速さで学習を進めるかを定義（学習率）。小さすぎると収束が遅いし、大きすぎるとそもそも収束しない \n",
    "\n",
    "- `lr_schedule` ：学習の進み具合を定義。今回は`learning_rate`の幅で一定間隔で学習を進める"
   ]
  },
  {
   "cell_type": "code",
   "execution_count": 12,
   "metadata": {},
   "outputs": [],
   "source": [
    "# Learning rateを定義\n",
    "learning_rate = 0.0000000001\n",
    "lr_schedule = C.learning_rate_schedule(learning_rate, C.UnitType.sample) "
   ]
  },
  {
   "cell_type": "markdown",
   "metadata": {},
   "source": [
    "## 2.3 `learner`(どう最適化するか=誤差を縮めるか)の定義"
   ]
  },
  {
   "cell_type": "markdown",
   "metadata": {},
   "source": [
    "- `learner`：パラメータをどう最適化するか、を定義\n",
    "    - `sgd`: 最適化アルゴリズムのSGD(確率的勾配降下法)を利用\n",
    "    - `z.parameters`: 調整すべきパラメータの指定（`W`, `b`）\n",
    "    - `lr_schedule`: 学習率スケジュール"
   ]
  },
  {
   "cell_type": "code",
   "execution_count": 13,
   "metadata": {},
   "outputs": [],
   "source": [
    "learner = C.sgd(z.parameters, lr_schedule)"
   ]
  },
  {
   "cell_type": "markdown",
   "metadata": {},
   "source": [
    "- `trainer`: 今まで定義してきた損失関数、誤差関数、最適化方法などをまとめて定義"
   ]
  },
  {
   "cell_type": "code",
   "execution_count": 14,
   "metadata": {},
   "outputs": [],
   "source": [
    "trainer = C.Trainer(z, (loss, eval_error), [learner])"
   ]
  },
  {
   "cell_type": "markdown",
   "metadata": {},
   "source": [
    "## 2.4 進捗度表示関数(`progress printer`)を定義(option)"
   ]
  },
  {
   "cell_type": "markdown",
   "metadata": {},
   "source": [
    "通常、深層学習は学習時間が長いため、学習の途中の状況を確認することが一般的.\n",
    "\n",
    "（でないと、例えば学習に数日かかって、凡ミスに気づいて再実行、、なんてことが、、、）"
   ]
  },
  {
   "cell_type": "code",
   "execution_count": 15,
   "metadata": {},
   "outputs": [],
   "source": [
    "# Define a utility that prints the training progress\n",
    "def print_training_progress(trainer, mb, frequency, verbose=1):\n",
    "    training_loss, eval_error = \"NA\", \"NA\"\n",
    "\n",
    "    if mb % frequency == 0:\n",
    "        training_loss = trainer.previous_minibatch_loss_average\n",
    "        eval_error = trainer.previous_minibatch_evaluation_average\n",
    "        if verbose: \n",
    "            print (\"Minibatch: {0}, Loss: {1:.4f}, Error: {2:.2f}\".format(mb, training_loss, eval_error))\n",
    "\n",
    "    return mb, training_loss, eval_error"
   ]
  },
  {
   "cell_type": "code",
   "execution_count": 16,
   "metadata": {},
   "outputs": [],
   "source": [
    "# 最適化実行問のパラメータ\n",
    "minibatch_size = 50 ## 1度の最適化で投入するサンプル数\n",
    "num_samples_to_train = split_threshold ## Trainingに利用する全サンプル数\n",
    "num_minibatches_to_train = int(num_samples_to_train / minibatch_size) ## \n",
    "\n",
    "# Run the trainer and perform model training\n",
    "training_progress_output_freq = 10"
   ]
  },
  {
   "cell_type": "code",
   "execution_count": 17,
   "metadata": {},
   "outputs": [
    {
     "name": "stdout",
     "output_type": "stream",
     "text": [
      "Minibatch: 0, Loss: 92605081.6000, Error: 92605081.60\n",
      "Minibatch: 10, Loss: 196458.1400, Error: 196458.14\n",
      "Minibatch: 20, Loss: 171.2585, Error: 171.26\n",
      "Minibatch: 30, Loss: 0.9980, Error: 1.00\n",
      "Minibatch: 40, Loss: 0.4400, Error: 0.44\n",
      "Minibatch: 50, Loss: 0.5868, Error: 0.59\n",
      "Minibatch: 60, Loss: 0.4837, Error: 0.48\n",
      "Minibatch: 70, Loss: 0.4981, Error: 0.50\n",
      "Minibatch: 80, Loss: 0.4600, Error: 0.46\n",
      "Minibatch: 90, Loss: 0.4628, Error: 0.46\n",
      "Minibatch: 100, Loss: 0.6381, Error: 0.64\n",
      "Minibatch: 110, Loss: 0.3336, Error: 0.33\n",
      "Minibatch: 120, Loss: 0.5066, Error: 0.51\n",
      "Minibatch: 130, Loss: 0.5030, Error: 0.50\n",
      "Minibatch: 140, Loss: 0.4732, Error: 0.47\n",
      "Minibatch: 150, Loss: 0.4439, Error: 0.44\n",
      "Minibatch: 160, Loss: 0.3957, Error: 0.40\n",
      "Minibatch: 170, Loss: 0.4277, Error: 0.43\n"
     ]
    }
   ],
   "source": [
    "W_values, b_values = [], []\n",
    "\n",
    "# Training process\n",
    "for i in range(0, num_minibatches_to_train):\n",
    "    # Extract training data\n",
    "    feature_samples, label_samples = generate_random_data_sample(\n",
    "        total_sample_size=split_threshold\n",
    "        ,sample_size=minibatch_size\n",
    "        ,features=train_features \n",
    "        ,labels=train_labels)\n",
    "    \n",
    "    # Train\n",
    "    trainer.train_minibatch({input : feature_samples, label : label_samples})\n",
    "    # Progress print(進捗確認: option)\n",
    "\n",
    "    batchsize, loss, error = print_training_progress(trainer, i, \n",
    "                                                     training_progress_output_freq, verbose=1)\n",
    "\n",
    "    # W, bの値を保存\n",
    "    W_values.append(mydict['w'].value)\n",
    "    b_values.append(mydict['b'].value)"
   ]
  },
  {
   "cell_type": "markdown",
   "metadata": {},
   "source": [
    "## 3.0 Confirm final parameter set"
   ]
  },
  {
   "cell_type": "code",
   "execution_count": 18,
   "metadata": {},
   "outputs": [
    {
     "name": "stdout",
     "output_type": "stream",
     "text": [
      "pre-defined weight: 2,  adjusted weight:  1.9999267\n",
      "pre-defined bias  : 1,  adjusted bias  :  0.0003381935\n"
     ]
    }
   ],
   "source": [
    "print(\"pre-defined weight: 2,  adjusted weight: \", mydict['w'].value[0][0])\n",
    "print(\"pre-defined bias  : 1,  adjusted bias  : \", mydict['b'].value[0])"
   ]
  },
  {
   "cell_type": "markdown",
   "metadata": {},
   "source": [
    "## 3.1 Confirm how the parameters converge"
   ]
  },
  {
   "cell_type": "markdown",
   "metadata": {},
   "source": [
    "We find that weight $W$ converges into $2$, but the convergence of bias $b$ to $1$ is very slow in the following plot:"
   ]
  },
  {
   "cell_type": "code",
   "execution_count": 19,
   "metadata": {},
   "outputs": [
    {
     "data": {
      "image/png": "[encoded data removed]",
      "text/plain": [
       "<matplotlib.figure.Figure at 0x1c249119b00>"
      ]
     },
     "metadata": {},
     "output_type": "display_data"
    }
   ],
   "source": [
    "plt.scatter(W_values, b_values, c='rygb')\n",
    "plt.xlabel('Weight ($W$)')\n",
    "plt.ylabel('bias ($b$)')\n",
    "plt.title('How each parameter $W$, $b$ converge')\n",
    "plt.show()"
   ]
  },
  {
   "cell_type": "markdown",
   "metadata": {
    "collapsed": true
   },
   "source": [
    "## 4.0 評価(`.eval`)"
   ]
  },
  {
   "cell_type": "code",
   "execution_count": 20,
   "metadata": {
    "collapsed": true
   },
   "outputs": [],
   "source": [
    "# 評価関数にevalメソッドを利用\n",
    "result = z.eval({input : test_features})"
   ]
  },
  {
   "cell_type": "code",
   "execution_count": 21,
   "metadata": {},
   "outputs": [
    {
     "name": "stdout",
     "output_type": "stream",
     "text": [
      "        Features: [9000.637 9001.9   9002.774 9003.129 9004.066 9005.942 9006.161]\n",
      "   Actual values: [18000.459 18002.74  18004.21  18006.338 18008.113 18010.453 18012.037]\n",
      "Predicted values: [18000.613 18003.14  18004.889 18005.598 18007.473 18011.225 18011.662] \n",
      "\n",
      "           Error: [-0.15429688, -0.40039062, -0.6777344, 0.7402344, 0.640625, -0.7714844, 0.375]\n"
     ]
    }
   ],
   "source": [
    "SAMPLE_NUM = 7\n",
    "print(\"        Features:\", test_features[:SAMPLE_NUM].T[0])\n",
    "print(\"   Actual values:\", test_labels[:SAMPLE_NUM].T[0])\n",
    "print(\"Predicted values:\", result[:SAMPLE_NUM].T[0], \"\\n\")\n",
    "print(\"           Error:\", [(test-result)[0] for test, result in zip(test_labels, result)][:SAMPLE_NUM])"
   ]
  },
  {
   "cell_type": "code",
   "execution_count": 22,
   "metadata": {},
   "outputs": [
    {
     "data": {
      "image/png": "[encoded data removed]",
      "text/plain": [
       "<matplotlib.figure.Figure at 0x1c249174f28>"
      ]
     },
     "metadata": {},
     "output_type": "display_data"
    }
   ],
   "source": [
    "plt.scatter(result, test_labels)\n",
    "plt.xlabel('Actual values')\n",
    "plt.ylabel('Predicted values')\n",
    "plt.title('Actual & predicted values')\n",
    "plt.show()"
   ]
  },
  {
   "cell_type": "code",
   "execution_count": null,
   "metadata": {
    "collapsed": true
   },
   "outputs": [],
   "source": []
  }
 ],
 "metadata": {
  "kernelspec": {
   "display_name": "Python [default]",
   "language": "python",
   "name": "python3"
  },
  "language_info": {
   "codemirror_mode": {
    "name": "ipython",
    "version": 3
   },
   "file_extension": ".py",
   "mimetype": "text/x-python",
   "name": "python",
   "nbconvert_exporter": "python",
   "pygments_lexer": "ipython3",
   "version": "3.5.4"
  }
 },
 "nbformat": 4,
 "nbformat_minor": 2
}
