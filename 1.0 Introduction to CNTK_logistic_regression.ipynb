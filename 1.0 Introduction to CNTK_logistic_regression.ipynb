{
 "cells": [
  {
   "cell_type": "markdown",
   "metadata": {},
   "source": [
    "## 0.0 Python library設定"
   ]
  },
  {
   "cell_type": "code",
   "execution_count": 1,
   "metadata": {
    "collapsed": true
   },
   "outputs": [],
   "source": [
    "from IPython.display import Image\n",
    "import numpy as np\n",
    "import sys, os\n",
    "\n",
    "import cntk as C\n",
    "C.cntk_py.set_fixed_random_seed(1) # fix the random seed so that LR examples are repeatable\n",
    "\n",
    "from sklearn.metrics import confusion_matrix\n",
    "\n",
    "import matplotlib.pyplot as plt\n",
    "%matplotlib inline"
   ]
  },
  {
   "cell_type": "markdown",
   "metadata": {},
   "source": [
    "## 0.1 実施すること\n",
    "\n",
    "- 年齢(歳)とTumor(腫瘍の大きさ)から、患者が癌かどうかを判定(2値分類)"
   ]
  },
  {
   "cell_type": "code",
   "execution_count": 2,
   "metadata": {},
   "outputs": [
    {
     "data": {
      "text/html": [
       "<img src=\"https://www.cntk.ai/jup/cancer_data_plot.jpg\" width=\"400\" height=\"400\"/>"
      ],
      "text/plain": [
       "<IPython.core.display.Image object>"
      ]
     },
     "execution_count": 2,
     "metadata": {},
     "output_type": "execute_result"
    }
   ],
   "source": [
    "# Figure 1\n",
    "Image(url=\"https://www.cntk.ai/jup/cancer_data_plot.jpg\", width=400, height=400)"
   ]
  },
  {
   "cell_type": "markdown",
   "metadata": {},
   "source": [
    "- イメージ的にはこんな分類境界(緑色の線)を引きたい"
   ]
  },
  {
   "cell_type": "code",
   "execution_count": 3,
   "metadata": {},
   "outputs": [
    {
     "data": {
      "text/html": [
       "<img src=\"https://www.cntk.ai/jup/cancer_classify_plot.jpg\" width=\"400\" height=\"400\"/>"
      ],
      "text/plain": [
       "<IPython.core.display.Image object>"
      ]
     },
     "execution_count": 3,
     "metadata": {},
     "output_type": "execute_result"
    }
   ],
   "source": [
    "# Figure 2\n",
    "Image(url= \"https://www.cntk.ai/jup/cancer_classify_plot.jpg\", width=400, height=400)"
   ]
  },
  {
   "cell_type": "markdown",
   "metadata": {},
   "source": [
    "## 1.0 データ生成"
   ]
  },
  {
   "cell_type": "code",
   "execution_count": 4,
   "metadata": {
    "collapsed": true
   },
   "outputs": [],
   "source": [
    "## 入力変数(年齢, 腫瘍の大きさ)の2種類あり\n",
    "input_dim = 2\n",
    "\n",
    "## 分類数(疾患の有無なので2値)\n",
    "num_output_classes = 2"
   ]
  },
  {
   "cell_type": "code",
   "execution_count": 5,
   "metadata": {
    "collapsed": true
   },
   "outputs": [],
   "source": [
    "## For reproductivity\n",
    "np.random.seed(0)\n",
    "\n",
    "## サンプル生成\n",
    "def generate_random_data_sample(sample_size, feature_dim, num_classes):\n",
    "    '''\n",
    "    引数\n",
    "        sample_size: レコード数　　←被験者数\n",
    "        feature_dim: 特徴量の次元　←年齢、腫瘍の大きさの2\n",
    "        num_classes: 分類数　　　　←疾患の有無で2\n",
    "    Return\n",
    "        X: 説明変数　←年齢、腫瘍の大きさ（後続処理用に型変換）\n",
    "        Y: 目的変数　←疾患の有無（1-hotベクトルに変換）\n",
    "    '''\n",
    "    # Create synthetic data using NumPy. \n",
    "    Y = np.random.randint(size=(sample_size, 1), low=0, high=num_classes)\n",
    "\n",
    "    # Make sure that the data is separable \n",
    "    X = (np.random.randn(sample_size, feature_dim)+3) * (Y+1)\n",
    "    \n",
    "    # Specify the data type to match the input variable used later in the tutorial \n",
    "    # (default type is double)\n",
    "    X = X.astype(np.float32)\n",
    "    \n",
    "    # convert class 0 into the vector \"1 0 0\", \n",
    "    # class 1 into the vector \"0 1 0\", ...\n",
    "    class_ind = [Y==class_number for class_number in range(num_classes)]\n",
    "    Y = np.asarray(np.hstack(class_ind), dtype=np.float32)\n",
    "    return X, Y"
   ]
  },
  {
   "cell_type": "code",
   "execution_count": 6,
   "metadata": {
    "collapsed": true
   },
   "outputs": [],
   "source": [
    "## 可視化用のレコード数\n",
    "mysamplesize = 32\n",
    "## データ生成\n",
    "features, labels = generate_random_data_sample(mysamplesize, input_dim, num_output_classes)"
   ]
  },
  {
   "cell_type": "code",
   "execution_count": 7,
   "metadata": {},
   "outputs": [
    {
     "data": {
      "image/png": "[encoded data removed]",
      "text/plain": [
       "<matplotlib.figure.Figure at 0x22ba83d45c0>"
      ]
     },
     "metadata": {},
     "output_type": "display_data"
    }
   ],
   "source": [
    "## 非疾患(0)なら青,疾患(1)なら赤 \n",
    "colors = ['r' if label == 0 else 'b' for label in labels[:,0]]\n",
    "\n",
    "plt.scatter(features[:,0], features[:,1], c=colors)\n",
    "plt.xlabel(\"Age (scaled)\")\n",
    "plt.ylabel(\"Tumor size (in cm)\")\n",
    "plt.show()"
   ]
  },
  {
   "cell_type": "markdown",
   "metadata": {},
   "source": [
    "## 2.1 入力・出力変数の定義"
   ]
  },
  {
   "cell_type": "code",
   "execution_count": 8,
   "metadata": {
    "collapsed": true
   },
   "outputs": [],
   "source": [
    "## 入力変数\n",
    "feature = C.input_variable(input_dim, np.float32)"
   ]
  },
  {
   "cell_type": "code",
   "execution_count": 9,
   "metadata": {
    "collapsed": true
   },
   "outputs": [],
   "source": [
    "## 出力変数\n",
    "output_dim = num_output_classes\n",
    "label = C.input_variable(num_output_classes, np.float32)"
   ]
  },
  {
   "cell_type": "markdown",
   "metadata": {},
   "source": [
    "## 2.2 モデル構造を定義"
   ]
  },
  {
   "cell_type": "code",
   "execution_count": 10,
   "metadata": {
    "collapsed": true
   },
   "outputs": [],
   "source": [
    "## Define a dictionary to store the model parameters\n",
    "mydict = {}\n",
    "def linear_layer(input_var, output_dim):\n",
    "    '''\n",
    "    引数\n",
    "        input_var:  入力変数\n",
    "        output_dim: アウトプットの次元(疾患の有無で2次元)\n",
    "    Return\n",
    "        推定式(Wx + b)のCNTKオブジェクト\n",
    "    '''\n",
    "    input_dim = input_var.shape[0]\n",
    "    weight_param = C.parameter(shape=(input_dim, output_dim))\n",
    "    bias_param = C.parameter(shape=(output_dim))\n",
    "    \n",
    "    mydict['w'], mydict['b'] = weight_param, bias_param\n",
    "\n",
    "    return C.times(input_var, weight_param) + bias_param"
   ]
  },
  {
   "cell_type": "code",
   "execution_count": 11,
   "metadata": {
    "collapsed": true
   },
   "outputs": [],
   "source": [
    "## モデル構造の定義\n",
    "z = linear_layer(feature, output_dim)"
   ]
  },
  {
   "cell_type": "markdown",
   "metadata": {},
   "source": [
    "## 2.3 損失関数、最適化方法の定義"
   ]
  },
  {
   "cell_type": "code",
   "execution_count": 12,
   "metadata": {
    "collapsed": true
   },
   "outputs": [],
   "source": [
    "## 損失関数\n",
    "loss = C.cross_entropy_with_softmax(z, label)\n",
    "## 分類エラー(\"分類として\"当たっているか否か)\n",
    "eval_error  = C.classification_error(z, label)"
   ]
  },
  {
   "cell_type": "code",
   "execution_count": 13,
   "metadata": {
    "collapsed": true
   },
   "outputs": [],
   "source": [
    "## 学習の速度\n",
    "learning_rate = 0.5\n",
    "\n",
    "## 損失関数、最適化方法の定義 \n",
    "lr_schedule = C.learning_rate_schedule(learning_rate, C.UnitType.minibatch) \n",
    "learner = C.sgd(z.parameters, lr_schedule)\n",
    "trainer = C.Trainer(z, (loss, eval_error), [learner])"
   ]
  },
  {
   "cell_type": "markdown",
   "metadata": {},
   "source": [
    "## 2.4 モデル学習"
   ]
  },
  {
   "cell_type": "markdown",
   "metadata": {},
   "source": [
    "通常、深層学習は学習時間が長いため、学習の途中の状況を確認することが一般的.\n",
    "\n",
    "（でないと、例えば学習に数日かかって、凡ミスに気づいて再実行、、なんてことが、、、）"
   ]
  },
  {
   "cell_type": "code",
   "execution_count": 14,
   "metadata": {
    "collapsed": true
   },
   "outputs": [],
   "source": [
    "## 学習の進捗度を標準出力\n",
    "def print_training_progress(trainer, mb, frequency, verbose=1):\n",
    "    training_loss, eval_error = \"NA\", \"NA\"\n",
    "\n",
    "    if mb % frequency == 0:\n",
    "        training_loss = trainer.previous_minibatch_loss_average\n",
    "        eval_error = trainer.previous_minibatch_evaluation_average\n",
    "        if verbose: \n",
    "            print (\"Minibatch: {0}, Loss: {1:.4f}, Error: {2:.2f}\".format(mb, training_loss, eval_error))\n",
    "        \n",
    "    return mb, training_loss, eval_error"
   ]
  },
  {
   "cell_type": "markdown",
   "metadata": {},
   "source": [
    "- 学習用の全レコード数: `20000`\n",
    "- 1度の最適化で投入するサンプル数: `25`\n",
    "  - `20000/25 = 800` 回誤差を縮める(=1 epoch)"
   ]
  },
  {
   "cell_type": "code",
   "execution_count": 15,
   "metadata": {
    "collapsed": true
   },
   "outputs": [],
   "source": [
    "## 学習時のサンプル数などを設定\n",
    "num_samples_to_train = 20000 ## Trainingに利用する全サンプル数\n",
    "minibatch_size = 25 ## 1度の最適化で投入するサンプル数\n",
    "num_minibatches_to_train = int(num_samples_to_train  / minibatch_size)"
   ]
  },
  {
   "cell_type": "code",
   "execution_count": 16,
   "metadata": {},
   "outputs": [
    {
     "name": "stdout",
     "output_type": "stream",
     "text": [
      "Minibatch: 0, Loss: 0.6931, Error: 0.32\n",
      "Minibatch: 50, Loss: 0.1884, Error: 0.08\n",
      "Minibatch: 100, Loss: 0.4162, Error: 0.12\n",
      "Minibatch: 150, Loss: 0.7879, Error: 0.40\n",
      "Minibatch: 200, Loss: 0.1258, Error: 0.04\n",
      "Minibatch: 250, Loss: 0.1313, Error: 0.08\n",
      "Minibatch: 300, Loss: 0.1012, Error: 0.04\n",
      "Minibatch: 350, Loss: 0.1068, Error: 0.04\n",
      "Minibatch: 400, Loss: 0.3083, Error: 0.08\n",
      "Minibatch: 450, Loss: 0.3212, Error: 0.12\n",
      "Minibatch: 500, Loss: 0.4140, Error: 0.20\n",
      "Minibatch: 550, Loss: 0.6808, Error: 0.20\n",
      "Minibatch: 600, Loss: 0.2979, Error: 0.12\n",
      "Minibatch: 650, Loss: 0.1675, Error: 0.12\n",
      "Minibatch: 700, Loss: 0.2769, Error: 0.12\n",
      "Minibatch: 750, Loss: 0.2308, Error: 0.04\n"
     ]
    }
   ],
   "source": [
    "## 進捗度合いを表示頻度を設定\n",
    "training_progress_output_freq = 50\n",
    "\n",
    "## 学習\n",
    "for i in range(0, num_minibatches_to_train):\n",
    "    ## Extract training data\n",
    "    features, labels = generate_random_data_sample(minibatch_size, input_dim, num_output_classes)\n",
    "    \n",
    "    ## Train\n",
    "    trainer.train_minibatch({feature : features, label : labels})\n",
    "    batchsize, loss, error = print_training_progress(trainer, i, \n",
    "                                                     training_progress_output_freq, verbose=1)"
   ]
  },
  {
   "cell_type": "markdown",
   "metadata": {},
   "source": [
    "## 2.5 モデル評価"
   ]
  },
  {
   "cell_type": "code",
   "execution_count": 17,
   "metadata": {
    "collapsed": true
   },
   "outputs": [],
   "source": [
    "out = C.softmax(z)\n",
    "result = out.eval({feature : features})"
   ]
  },
  {
   "cell_type": "code",
   "execution_count": 18,
   "metadata": {},
   "outputs": [
    {
     "name": "stdout",
     "output_type": "stream",
     "text": [
      "Label    : [1, 1, 0, 0, 0, 0, 1, 1, 1, 1, 0, 0, 0, 0, 1, 0, 1, 1, 0, 0, 1, 0, 0, 1, 0]\n",
      "Predicted: [0, 1, 0, 0, 0, 0, 1, 1, 1, 1, 0, 0, 0, 0, 1, 0, 1, 0, 0, 0, 1, 0, 0, 1, 0]\n"
     ]
    }
   ],
   "source": [
    "print(\"Label    :\", [np.argmax(label) for label in labels])\n",
    "print(\"Predicted:\", [np.argmax(x) for x in result])"
   ]
  },
  {
   "cell_type": "code",
   "execution_count": 19,
   "metadata": {},
   "outputs": [
    {
     "name": "stdout",
     "output_type": "stream",
     "text": [
      "[[-0.76800036  0.76800036]\n",
      " [-0.7891066   0.789107  ]]\n",
      "[ 7.986333  -7.9863334]\n"
     ]
    },
    {
     "data": {
      "image/png": "[encoded data removed]",
      "text/plain": [
       "<matplotlib.figure.Figure at 0x22baa48eeb8>"
      ]
     },
     "metadata": {},
     "output_type": "display_data"
    }
   ],
   "source": [
    "# Model parameters\n",
    "print(mydict['w'].value)\n",
    "print(mydict['b'].value)\n",
    "\n",
    "bias_vector   = mydict['b'].value\n",
    "weight_matrix = mydict['w'].value\n",
    "\n",
    "# let 0 represent malignant/red, and 1 represent benign/blue\n",
    "## 非罹患()\n",
    "colors = ['r' if label == 0 else 'b' for label in labels[:,0]]\n",
    "plt.scatter(features[:,0], features[:,1], c=colors)\n",
    "plt.plot([0, bias_vector[0]/weight_matrix[0][1]], \n",
    "         [ bias_vector[1]/weight_matrix[0][0], 0], c = 'g', lw = 3)\n",
    "plt.xlabel(\"Patient age (scaled)\")\n",
    "plt.ylabel(\"Tumor size (in cm)\")\n",
    "plt.show()"
   ]
  },
  {
   "cell_type": "code",
   "execution_count": 20,
   "metadata": {},
   "outputs": [
    {
     "data": {
      "text/plain": [
       "array([[14,  0],\n",
       "       [ 2,  9]], dtype=int64)"
      ]
     },
     "execution_count": 20,
     "metadata": {},
     "output_type": "execute_result"
    }
   ],
   "source": [
    "label_true = [np.argmax(label) for label in labels]\n",
    "label_pred = [np.argmax(x) for x in result]\n",
    "\n",
    "confusion_matrix(label_true, label_pred)"
   ]
  },
  {
   "cell_type": "code",
   "execution_count": null,
   "metadata": {
    "collapsed": true
   },
   "outputs": [],
   "source": []
  }
 ],
 "metadata": {
  "kernelspec": {
   "display_name": "Python 3",
   "language": "python",
   "name": "python3"
  },
  "language_info": {
   "codemirror_mode": {
    "name": "ipython",
    "version": 3
   },
   "file_extension": ".py",
   "mimetype": "text/x-python",
   "name": "python",
   "nbconvert_exporter": "python",
   "pygments_lexer": "ipython3",
   "version": "3.5.2"
  }
 },
 "nbformat": 4,
 "nbformat_minor": 2
}
