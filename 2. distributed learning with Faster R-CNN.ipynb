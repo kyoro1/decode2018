{
 "cells": [
  {
   "cell_type": "code",
   "execution_count": 1,
   "metadata": {},
   "outputs": [],
   "source": [
    "import os\n",
    "import cntk as C"
   ]
  },
  {
   "cell_type": "code",
   "execution_count": 2,
   "metadata": {},
   "outputs": [],
   "source": [
    "WKDIR = './Images/Detection/FasterRCNN'"
   ]
  },
  {
   "cell_type": "code",
   "execution_count": 3,
   "metadata": {},
   "outputs": [
    {
     "data": {
      "text/plain": [
       "(GPU[0] Tesla K80, CPU)"
      ]
     },
     "execution_count": 3,
     "metadata": {},
     "output_type": "execute_result"
    }
   ],
   "source": [
    "C.all_devices()"
   ]
  },
  {
   "cell_type": "code",
   "execution_count": null,
   "metadata": {
    "collapsed": true
   },
   "outputs": [],
   "source": [
    "cntk.device.try_set_default_device(cntk.device.gpu(cfg.GPU_ID))"
   ]
  },
  {
   "cell_type": "code",
   "execution_count": 4,
   "metadata": {},
   "outputs": [],
   "source": [
    "os.chdir(WKDIR)"
   ]
  },
  {
   "cell_type": "code",
   "execution_count": 7,
   "metadata": {},
   "outputs": [
    {
     "name": "stdout",
     "output_type": "stream",
     "text": [
      "Selected CPU as the process wide default device.\n",
      "Using base model:   AlexNet\n",
      "lr_per_sample:      [0.001, 0.001, 0.001, 0.001, 0.001, 0.001, 0.001, 0.001, 0.001, 0.001, 0.0001, 0.0001, 0.0001, 0.0001, 0.0001, 0.0001, 0.0001, 0.0001, 0.0001, 0.0001, 1e-05]\n",
      "Training model for 20 epochs.\n",
      "Training 57820427 parameters in 27 parameter tensors.\n",
      "-------------------------------------------------------------------\n",
      "Build info: \n",
      "\n",
      "\t\tBuilt time: Jan 31 2018 15:03:41\n",
      "\t\tLast modified date: Tue Jan 30 03:26:13 2018\n",
      "\t\tBuild type: release\n",
      "\t\tBuild target: GPU\n",
      "\t\tWith 1bit-SGD: no\n",
      "\t\tWith ASGD: yes\n",
      "\t\tMath lib: mkl\n",
      "\t\tCUDA version: 9.0.0\n",
      "\t\tCUDNN version: 7.0.4\n",
      "\t\tBuild Branch: HEAD\n",
      "\t\tBuild SHA1: a70455c7abe76596853f8e6a77a4d6de1e3ba76e\n",
      "\t\tMPI distribution: Open MPI\n",
      "\t\tMPI version: 1.10.7\n",
      "-------------------------------------------------------------------\n",
      "PROGRESS: 0.00%\n",
      "PROGRESS: 0.00%\n",
      "PROGRESS: 0.00%\n",
      "PROGRESS: 0.00%\n",
      "PROGRESS: 0.00%\n",
      "Finished Epoch[1 of 20]: [Training] loss = 2.050542 * 20, metric = 26.25% * 20 67.718s (  0.3 samples/s);\n",
      "PROGRESS: 0.00%\n",
      "PROGRESS: 0.00%\n",
      "PROGRESS: 0.00%\n",
      "PROGRESS: 0.00%\n",
      "PROGRESS: 0.00%\n",
      "Finished Epoch[2 of 20]: [Training] loss = 1.201857 * 20, metric = 13.01% * 20 62.265s (  0.3 samples/s);\n",
      "PROGRESS: 0.00%\n",
      "PROGRESS: 0.00%\n",
      "PROGRESS: 0.00%\n",
      "PROGRESS: 0.00%\n",
      "PROGRESS: 0.00%\n",
      "Finished Epoch[3 of 20]: [Training] loss = 0.976491 * 20, metric = 11.56% * 20 63.828s (  0.3 samples/s);\n",
      "PROGRESS: 0.00%\n",
      "PROGRESS: 0.00%\n",
      "PROGRESS: 0.00%\n",
      "PROGRESS: 0.00%\n",
      "PROGRESS: 0.00%\n",
      "^C\n",
      "Traceback (most recent call last):\n",
      "  File \"/anaconda/envs/py35/lib/python3.5/site-packages/cntk/cntk_py.py\", line 1547, in __hash__\n",
      "    return _cntk_py.Variable___hash__(self)\n",
      "TypeError: in method 'Variable___hash__', argument 1 of type 'CNTK::Variable *'\n",
      "\n",
      "During handling of the above exception, another exception occurred:\n",
      "\n",
      "Traceback (most recent call last):\n",
      "  File \"/anaconda/envs/py35/lib/python3.5/site-packages/cntk/cntk_py.py\", line 932, in <lambda>\n",
      "    __setattr__ = lambda self, name, value: _swig_setattr(self, DeviceDescriptor, name, value)\n",
      "  File \"/anaconda/envs/py35/lib/python3.5/site-packages/cntk/cntk_py.py\", line 74, in _swig_setattr\n",
      "    return _swig_setattr_nondynamic(self, class_type, name, value, 0)\n",
      "  File \"/anaconda/envs/py35/lib/python3.5/site-packages/cntk/cntk_py.py\", line 58, in _swig_setattr_nondynamic\n",
      "    if type(value).__name__ == 'SwigPyObject':\n",
      "SystemError: <class 'type'> returned a result with an error set\n",
      "\n",
      "During handling of the above exception, another exception occurred:\n",
      "\n",
      "Traceback (most recent call last):\n",
      "  File \"/anaconda/envs/py35/lib/python3.5/site-packages/cntk/cntk_py.py\", line 1473, in <lambda>\n",
      "    __setattr__ = lambda self, name, value: _swig_setattr(self, Variable, name, value)\n",
      "  File \"/anaconda/envs/py35/lib/python3.5/site-packages/cntk/cntk_py.py\", line 74, in _swig_setattr\n",
      "    return _swig_setattr_nondynamic(self, class_type, name, value, 0)\n",
      "  File \"/anaconda/envs/py35/lib/python3.5/site-packages/cntk/cntk_py.py\", line 58, in _swig_setattr_nondynamic\n",
      "    if type(value).__name__ == 'SwigPyObject':\n",
      "SystemError: <class 'type'> returned a result with an error set\n",
      "\n",
      "During handling of the above exception, another exception occurred:\n",
      "\n",
      "Traceback (most recent call last):\n",
      "  File \"/anaconda/envs/py35/lib/python3.5/site-packages/cntk/cntk_py.py\", line 1473, in <lambda>\n",
      "    __setattr__ = lambda self, name, value: _swig_setattr(self, Variable, name, value)\n",
      "  File \"/anaconda/envs/py35/lib/python3.5/site-packages/cntk/cntk_py.py\", line 74, in _swig_setattr\n",
      "    return _swig_setattr_nondynamic(self, class_type, name, value, 0)\n",
      "  File \"/anaconda/envs/py35/lib/python3.5/site-packages/cntk/cntk_py.py\", line 58, in _swig_setattr_nondynamic\n",
      "    if type(value).__name__ == 'SwigPyObject':\n",
      "SystemError: <class 'type'> returned a result with an error set\n",
      "\n",
      "During handling of the above exception, another exception occurred:\n",
      "\n",
      "Traceback (most recent call last):\n",
      "  File \"/anaconda/envs/py35/lib/python3.5/site-packages/cntk/cntk_py.py\", line 1473, in <lambda>\n",
      "    __setattr__ = lambda self, name, value: _swig_setattr(self, Variable, name, value)\n",
      "  File \"/anaconda/envs/py35/lib/python3.5/site-packages/cntk/cntk_py.py\", line 74, in _swig_setattr\n",
      "    return _swig_setattr_nondynamic(self, class_type, name, value, 0)\n",
      "  File \"/anaconda/envs/py35/lib/python3.5/site-packages/cntk/cntk_py.py\", line 58, in _swig_setattr_nondynamic\n",
      "    if type(value).__name__ == 'SwigPyObject':\n",
      "SystemError: <class 'type'> returned a result with an error set\n",
      "\n",
      "During handling of the above exception, another exception occurred:\n",
      "\n",
      "Traceback (most recent call last):\n",
      "  File \"/anaconda/envs/py35/lib/python3.5/site-packages/cntk/ops/functions.py\", line 1727, in _forward\n"
     ]
    }
   ],
   "source": [
    "!python run_faster_rcnn.py"
   ]
  },
  {
   "cell_type": "code",
   "execution_count": 9,
   "metadata": {},
   "outputs": [
    {
     "name": "stdout",
     "output_type": "stream",
     "text": [
      "Selected CPU as the process wide default device.\n",
      "Selected CPU as the process wide default device.\n",
      "Using base model:   AlexNet\n",
      "lr_per_sample:      [0.001, 0.001, 0.001, 0.001, 0.001, 0.001, 0.001, 0.001, 0.001, 0.001, 0.0001, 0.0001, 0.0001, 0.0001, 0.0001, 0.0001, 0.0001, 0.0001, 0.0001, 0.0001, 1e-05]\n",
      "Using base model:   AlexNet\n",
      "lr_per_sample:      [0.001, 0.001, 0.001, 0.001, 0.001, 0.001, 0.001, 0.001, 0.001, 0.001, 0.0001, 0.0001, 0.0001, 0.0001, 0.0001, 0.0001, 0.0001, 0.0001, 0.0001, 0.0001, 1e-05]\n",
      "--------------------------------------------------------------------------\n",
      "[[22262,1],0]: A high-performance Open MPI point-to-point messaging module\n",
      "was unable to find any relevant network interfaces:\n",
      "\n",
      "Module: OpenFabrics (openib)\n",
      "  Host: dsvm-linux-gpu\n",
      "\n",
      "Another transport will be used instead, although this may result in\n",
      "lower performance.\n",
      "--------------------------------------------------------------------------\n",
      "ping [requestnodes (before change)]: 2 nodes pinging each other\n",
      "ping [requestnodes (before change)]: 2 nodes pinging each other\n",
      "ping [requestnodes (after change)]: 2 nodes pinging each other\n",
      "requestnodes [MPIWrapperMpi]: using 2 out of 2 MPI nodes on a single host (2 requested); we (0) are in (participating)\n",
      "ping [mpihelper]: 2 nodes pinging each other\n",
      "ping [requestnodes (after change)]: 2 nodes pinging each other\n",
      "requestnodes [MPIWrapperMpi]: using 2 out of 2 MPI nodes on a single host (2 requested); we (1) are in (participating)\n",
      "ping [mpihelper]: 2 nodes pinging each other\n",
      "Training model for 20 epochs.\n",
      "Training 57820427 parameters in 27 parameter tensors.\n",
      "-------------------------------------------------------------------\n",
      "Build info: \n",
      "\n",
      "\t\tBuilt time: Jan 31 2018 15:03:41\n",
      "\t\tLast modified date: Tue Jan 30 03:26:13 2018\n",
      "\t\tBuild type: release\n",
      "\t\tBuild target: GPU\n",
      "\t\tWith 1bit-SGD: no\n",
      "\t\tWith ASGD: yes\n",
      "\t\tMath lib: mkl\n",
      "\t\tCUDA version: 9.0.0\n",
      "\t\tCUDNN version: 7.0.4\n",
      "\t\tBuild Branch: HEAD\n",
      "\t\tBuild SHA1: a70455c7abe76596853f8e6a77a4d6de1e3ba76e\n",
      "\t\tMPI distribution: Open MPI\n",
      "\t\tMPI version: 1.10.7\n",
      "-------------------------------------------------------------------\n",
      "Training model for 20 epochs.\n",
      "Training 57820427 parameters in 27 parameter tensors.\n",
      "-------------------------------------------------------------------\n",
      "Build info: \n",
      "\n",
      "\t\tBuilt time: Jan 31 2018 15:03:41\n",
      "\t\tLast modified date: Tue Jan 30 03:26:13 2018\n",
      "\t\tBuild type: release\n",
      "\t\tBuild target: GPU\n",
      "\t\tWith 1bit-SGD: no\n",
      "\t\tWith ASGD: yes\n",
      "\t\tMath lib: mkl\n",
      "\t\tCUDA version: 9.0.0\n",
      "\t\tCUDNN version: 7.0.4\n",
      "\t\tBuild Branch: HEAD\n",
      "\t\tBuild SHA1: a70455c7abe76596853f8e6a77a4d6de1e3ba76e\n",
      "\t\tMPI distribution: Open MPI\n",
      "\t\tMPI version: 1.10.7\n",
      "-------------------------------------------------------------------\n",
      "[dsvm-linux-gpu:09626] 1 more process has sent help message help-mpi-btl-base.txt / btl:no-nics\n",
      "[dsvm-linux-gpu:09626] Set MCA parameter \"orte_base_help_aggregate\" to 0 to see all help / error messages\n",
      "NcclComm: disabled, at least one rank using CPU device\n",
      "NcclComm: disabled, at least one rank using CPU device\n",
      "NcclComm: disabled, at least one rank using CPU device\n",
      "NcclComm: disabled, at least one rank using CPU device\n",
      "PROGRESS: 0.00%\n",
      "PROGRESS: 0.00%\n",
      "^C\n"
     ]
    }
   ],
   "source": [
    "!mpiexec -n 2 python run_faster_rcnn_distributed.py"
   ]
  },
  {
   "cell_type": "code",
   "execution_count": null,
   "metadata": {
    "collapsed": true
   },
   "outputs": [],
   "source": []
  }
 ],
 "metadata": {
  "kernelspec": {
   "display_name": "Python [default]",
   "language": "python",
   "name": "python3"
  },
  "language_info": {
   "codemirror_mode": {
    "name": "ipython",
    "version": 3
   },
   "file_extension": ".py",
   "mimetype": "text/x-python",
   "name": "python",
   "nbconvert_exporter": "python",
   "pygments_lexer": "ipython3",
   "version": "3.5.4"
  }
 },
 "nbformat": 4,
 "nbformat_minor": 2
}
